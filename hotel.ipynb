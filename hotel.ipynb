{
 "cells": [
  {
   "cell_type": "markdown",
   "metadata": {},
   "source": [
    "# Hotel Cancelation Predictions\n",
    "#### Data used [here](https://www.kaggle.com/jessemostipak/hotel-booking-demand)\n"
   ]
  },
  {
   "cell_type": "code",
   "execution_count": 83,
   "metadata": {},
   "outputs": [],
   "source": [
    "import pandas as pd\n",
    "import matplotlib.pyplot as plt\n",
    "import seaborn as sns\n",
    "import numpy as np \n",
    "from sklearn.decomposition import PCA\n",
    "from sklearn.model_selection import train_test_split\n",
    "from sklearn.linear_model import LogisticRegression\n",
    "from sklearn.neighbors import KNeighborsClassifier\n",
    "from sklearn.preprocessing import OneHotEncoder, StandardScaler\n",
    "from sklearn.compose import make_column_transformer, make_column_selector\n",
    "from sklearn.pipeline import make_pipeline\n",
    "from xgboost import XGBClassifier\n",
    "import warnings \n",
    "warnings.filterwarnings('ignore')"
   ]
  },
  {
   "cell_type": "code",
   "execution_count": 53,
   "metadata": {},
   "outputs": [
    {
     "data": {
      "text/html": [
       "<div>\n",
       "<style scoped>\n",
       "    .dataframe tbody tr th:only-of-type {\n",
       "        vertical-align: middle;\n",
       "    }\n",
       "\n",
       "    .dataframe tbody tr th {\n",
       "        vertical-align: top;\n",
       "    }\n",
       "\n",
       "    .dataframe thead th {\n",
       "        text-align: right;\n",
       "    }\n",
       "</style>\n",
       "<table border=\"1\" class=\"dataframe\">\n",
       "  <thead>\n",
       "    <tr style=\"text-align: right;\">\n",
       "      <th></th>\n",
       "      <th>hotel</th>\n",
       "      <th>is_canceled</th>\n",
       "      <th>lead_time</th>\n",
       "      <th>arrival_date_year</th>\n",
       "      <th>arrival_date_month</th>\n",
       "      <th>arrival_date_week_number</th>\n",
       "      <th>arrival_date_day_of_month</th>\n",
       "      <th>stays_in_weekend_nights</th>\n",
       "      <th>stays_in_week_nights</th>\n",
       "      <th>adults</th>\n",
       "      <th>...</th>\n",
       "      <th>deposit_type</th>\n",
       "      <th>agent</th>\n",
       "      <th>company</th>\n",
       "      <th>days_in_waiting_list</th>\n",
       "      <th>customer_type</th>\n",
       "      <th>adr</th>\n",
       "      <th>required_car_parking_spaces</th>\n",
       "      <th>total_of_special_requests</th>\n",
       "      <th>reservation_status</th>\n",
       "      <th>reservation_status_date</th>\n",
       "    </tr>\n",
       "  </thead>\n",
       "  <tbody>\n",
       "    <tr>\n",
       "      <th>0</th>\n",
       "      <td>Resort Hotel</td>\n",
       "      <td>0</td>\n",
       "      <td>342</td>\n",
       "      <td>2015</td>\n",
       "      <td>July</td>\n",
       "      <td>27</td>\n",
       "      <td>1</td>\n",
       "      <td>0</td>\n",
       "      <td>0</td>\n",
       "      <td>2</td>\n",
       "      <td>...</td>\n",
       "      <td>No Deposit</td>\n",
       "      <td>NaN</td>\n",
       "      <td>NaN</td>\n",
       "      <td>0</td>\n",
       "      <td>Transient</td>\n",
       "      <td>0.0</td>\n",
       "      <td>0</td>\n",
       "      <td>0</td>\n",
       "      <td>Check-Out</td>\n",
       "      <td>2015-07-01</td>\n",
       "    </tr>\n",
       "    <tr>\n",
       "      <th>1</th>\n",
       "      <td>Resort Hotel</td>\n",
       "      <td>0</td>\n",
       "      <td>737</td>\n",
       "      <td>2015</td>\n",
       "      <td>July</td>\n",
       "      <td>27</td>\n",
       "      <td>1</td>\n",
       "      <td>0</td>\n",
       "      <td>0</td>\n",
       "      <td>2</td>\n",
       "      <td>...</td>\n",
       "      <td>No Deposit</td>\n",
       "      <td>NaN</td>\n",
       "      <td>NaN</td>\n",
       "      <td>0</td>\n",
       "      <td>Transient</td>\n",
       "      <td>0.0</td>\n",
       "      <td>0</td>\n",
       "      <td>0</td>\n",
       "      <td>Check-Out</td>\n",
       "      <td>2015-07-01</td>\n",
       "    </tr>\n",
       "    <tr>\n",
       "      <th>2</th>\n",
       "      <td>Resort Hotel</td>\n",
       "      <td>0</td>\n",
       "      <td>7</td>\n",
       "      <td>2015</td>\n",
       "      <td>July</td>\n",
       "      <td>27</td>\n",
       "      <td>1</td>\n",
       "      <td>0</td>\n",
       "      <td>1</td>\n",
       "      <td>1</td>\n",
       "      <td>...</td>\n",
       "      <td>No Deposit</td>\n",
       "      <td>NaN</td>\n",
       "      <td>NaN</td>\n",
       "      <td>0</td>\n",
       "      <td>Transient</td>\n",
       "      <td>75.0</td>\n",
       "      <td>0</td>\n",
       "      <td>0</td>\n",
       "      <td>Check-Out</td>\n",
       "      <td>2015-07-02</td>\n",
       "    </tr>\n",
       "    <tr>\n",
       "      <th>3</th>\n",
       "      <td>Resort Hotel</td>\n",
       "      <td>0</td>\n",
       "      <td>13</td>\n",
       "      <td>2015</td>\n",
       "      <td>July</td>\n",
       "      <td>27</td>\n",
       "      <td>1</td>\n",
       "      <td>0</td>\n",
       "      <td>1</td>\n",
       "      <td>1</td>\n",
       "      <td>...</td>\n",
       "      <td>No Deposit</td>\n",
       "      <td>304.0</td>\n",
       "      <td>NaN</td>\n",
       "      <td>0</td>\n",
       "      <td>Transient</td>\n",
       "      <td>75.0</td>\n",
       "      <td>0</td>\n",
       "      <td>0</td>\n",
       "      <td>Check-Out</td>\n",
       "      <td>2015-07-02</td>\n",
       "    </tr>\n",
       "    <tr>\n",
       "      <th>4</th>\n",
       "      <td>Resort Hotel</td>\n",
       "      <td>0</td>\n",
       "      <td>14</td>\n",
       "      <td>2015</td>\n",
       "      <td>July</td>\n",
       "      <td>27</td>\n",
       "      <td>1</td>\n",
       "      <td>0</td>\n",
       "      <td>2</td>\n",
       "      <td>2</td>\n",
       "      <td>...</td>\n",
       "      <td>No Deposit</td>\n",
       "      <td>240.0</td>\n",
       "      <td>NaN</td>\n",
       "      <td>0</td>\n",
       "      <td>Transient</td>\n",
       "      <td>98.0</td>\n",
       "      <td>0</td>\n",
       "      <td>1</td>\n",
       "      <td>Check-Out</td>\n",
       "      <td>2015-07-03</td>\n",
       "    </tr>\n",
       "  </tbody>\n",
       "</table>\n",
       "<p>5 rows × 32 columns</p>\n",
       "</div>"
      ],
      "text/plain": [
       "          hotel  is_canceled  lead_time  arrival_date_year arrival_date_month  \\\n",
       "0  Resort Hotel            0        342               2015               July   \n",
       "1  Resort Hotel            0        737               2015               July   \n",
       "2  Resort Hotel            0          7               2015               July   \n",
       "3  Resort Hotel            0         13               2015               July   \n",
       "4  Resort Hotel            0         14               2015               July   \n",
       "\n",
       "   arrival_date_week_number  arrival_date_day_of_month  \\\n",
       "0                        27                          1   \n",
       "1                        27                          1   \n",
       "2                        27                          1   \n",
       "3                        27                          1   \n",
       "4                        27                          1   \n",
       "\n",
       "   stays_in_weekend_nights  stays_in_week_nights  adults  ...  deposit_type  \\\n",
       "0                        0                     0       2  ...    No Deposit   \n",
       "1                        0                     0       2  ...    No Deposit   \n",
       "2                        0                     1       1  ...    No Deposit   \n",
       "3                        0                     1       1  ...    No Deposit   \n",
       "4                        0                     2       2  ...    No Deposit   \n",
       "\n",
       "   agent company days_in_waiting_list customer_type   adr  \\\n",
       "0    NaN     NaN                    0     Transient   0.0   \n",
       "1    NaN     NaN                    0     Transient   0.0   \n",
       "2    NaN     NaN                    0     Transient  75.0   \n",
       "3  304.0     NaN                    0     Transient  75.0   \n",
       "4  240.0     NaN                    0     Transient  98.0   \n",
       "\n",
       "   required_car_parking_spaces  total_of_special_requests  reservation_status  \\\n",
       "0                            0                          0           Check-Out   \n",
       "1                            0                          0           Check-Out   \n",
       "2                            0                          0           Check-Out   \n",
       "3                            0                          0           Check-Out   \n",
       "4                            0                          1           Check-Out   \n",
       "\n",
       "  reservation_status_date  \n",
       "0              2015-07-01  \n",
       "1              2015-07-01  \n",
       "2              2015-07-02  \n",
       "3              2015-07-02  \n",
       "4              2015-07-03  \n",
       "\n",
       "[5 rows x 32 columns]"
      ]
     },
     "execution_count": 53,
     "metadata": {},
     "output_type": "execute_result"
    }
   ],
   "source": [
    "hotel = pd.read_csv('./data_files/hotel_bookings.csv')\n",
    "hotel.head()"
   ]
  },
  {
   "cell_type": "code",
   "execution_count": 54,
   "metadata": {},
   "outputs": [
    {
     "name": "stdout",
     "output_type": "stream",
     "text": [
      "<class 'pandas.core.frame.DataFrame'>\n",
      "RangeIndex: 119390 entries, 0 to 119389\n",
      "Data columns (total 32 columns):\n",
      " #   Column                          Non-Null Count   Dtype  \n",
      "---  ------                          --------------   -----  \n",
      " 0   hotel                           119390 non-null  object \n",
      " 1   is_canceled                     119390 non-null  int64  \n",
      " 2   lead_time                       119390 non-null  int64  \n",
      " 3   arrival_date_year               119390 non-null  int64  \n",
      " 4   arrival_date_month              119390 non-null  object \n",
      " 5   arrival_date_week_number        119390 non-null  int64  \n",
      " 6   arrival_date_day_of_month       119390 non-null  int64  \n",
      " 7   stays_in_weekend_nights         119390 non-null  int64  \n",
      " 8   stays_in_week_nights            119390 non-null  int64  \n",
      " 9   adults                          119390 non-null  int64  \n",
      " 10  children                        119386 non-null  float64\n",
      " 11  babies                          119390 non-null  int64  \n",
      " 12  meal                            119390 non-null  object \n",
      " 13  country                         118902 non-null  object \n",
      " 14  market_segment                  119390 non-null  object \n",
      " 15  distribution_channel            119390 non-null  object \n",
      " 16  is_repeated_guest               119390 non-null  int64  \n",
      " 17  previous_cancellations          119390 non-null  int64  \n",
      " 18  previous_bookings_not_canceled  119390 non-null  int64  \n",
      " 19  reserved_room_type              119390 non-null  object \n",
      " 20  assigned_room_type              119390 non-null  object \n",
      " 21  booking_changes                 119390 non-null  int64  \n",
      " 22  deposit_type                    119390 non-null  object \n",
      " 23  agent                           103050 non-null  float64\n",
      " 24  company                         6797 non-null    float64\n",
      " 25  days_in_waiting_list            119390 non-null  int64  \n",
      " 26  customer_type                   119390 non-null  object \n",
      " 27  adr                             119390 non-null  float64\n",
      " 28  required_car_parking_spaces     119390 non-null  int64  \n",
      " 29  total_of_special_requests       119390 non-null  int64  \n",
      " 30  reservation_status              119390 non-null  object \n",
      " 31  reservation_status_date         119390 non-null  object \n",
      "dtypes: float64(4), int64(16), object(12)\n",
      "memory usage: 29.1+ MB\n"
     ]
    }
   ],
   "source": [
    "hotel.info()"
   ]
  },
  {
   "cell_type": "code",
   "execution_count": 55,
   "metadata": {},
   "outputs": [
    {
     "data": {
      "text/plain": [
       "hotel                                  0\n",
       "is_canceled                            0\n",
       "lead_time                              0\n",
       "arrival_date_year                      0\n",
       "arrival_date_month                     0\n",
       "arrival_date_week_number               0\n",
       "arrival_date_day_of_month              0\n",
       "stays_in_weekend_nights                0\n",
       "stays_in_week_nights                   0\n",
       "adults                                 0\n",
       "children                               4\n",
       "babies                                 0\n",
       "meal                                   0\n",
       "country                              488\n",
       "market_segment                         0\n",
       "distribution_channel                   0\n",
       "is_repeated_guest                      0\n",
       "previous_cancellations                 0\n",
       "previous_bookings_not_canceled         0\n",
       "reserved_room_type                     0\n",
       "assigned_room_type                     0\n",
       "booking_changes                        0\n",
       "deposit_type                           0\n",
       "agent                              16340\n",
       "company                           112593\n",
       "days_in_waiting_list                   0\n",
       "customer_type                          0\n",
       "adr                                    0\n",
       "required_car_parking_spaces            0\n",
       "total_of_special_requests              0\n",
       "reservation_status                     0\n",
       "reservation_status_date                0\n",
       "dtype: int64"
      ]
     },
     "execution_count": 55,
     "metadata": {},
     "output_type": "execute_result"
    }
   ],
   "source": [
    "hotel.isnull().sum()"
   ]
  },
  {
   "cell_type": "markdown",
   "metadata": {},
   "source": [
    "### Filling Children missing values with the mean "
   ]
  },
  {
   "cell_type": "code",
   "execution_count": 56,
   "metadata": {},
   "outputs": [],
   "source": [
    "hotel['children'].fillna(hotel['children'].mean(),inplace=True)\n",
    "hotel['agent'].fillna(hotel['agent'].mean(),inplace=True)\n",
    "hotel['country'].fillna(0, inplace=True)\n",
    "hotel['company'].fillna(0, inplace=True)"
   ]
  },
  {
   "cell_type": "code",
   "execution_count": 57,
   "metadata": {},
   "outputs": [
    {
     "data": {
      "text/plain": [
       "False"
      ]
     },
     "execution_count": 57,
     "metadata": {},
     "output_type": "execute_result"
    }
   ],
   "source": [
    "hotel.isnull().any().any()"
   ]
  },
  {
   "cell_type": "code",
   "execution_count": 58,
   "metadata": {},
   "outputs": [
    {
     "data": {
      "text/html": [
       "<div>\n",
       "<style scoped>\n",
       "    .dataframe tbody tr th:only-of-type {\n",
       "        vertical-align: middle;\n",
       "    }\n",
       "\n",
       "    .dataframe tbody tr th {\n",
       "        vertical-align: top;\n",
       "    }\n",
       "\n",
       "    .dataframe thead th {\n",
       "        text-align: right;\n",
       "    }\n",
       "</style>\n",
       "<table border=\"1\" class=\"dataframe\">\n",
       "  <thead>\n",
       "    <tr style=\"text-align: right;\">\n",
       "      <th></th>\n",
       "      <th>is_canceled</th>\n",
       "      <th>hotel</th>\n",
       "      <th>days_in_waiting_list</th>\n",
       "    </tr>\n",
       "  </thead>\n",
       "  <tbody>\n",
       "    <tr>\n",
       "      <th>0</th>\n",
       "      <td>No</td>\n",
       "      <td>City Hotel</td>\n",
       "      <td>2.150082</td>\n",
       "    </tr>\n",
       "    <tr>\n",
       "      <th>1</th>\n",
       "      <td>No</td>\n",
       "      <td>Resort Hotel</td>\n",
       "      <td>0.694934</td>\n",
       "    </tr>\n",
       "    <tr>\n",
       "      <th>2</th>\n",
       "      <td>Yes</td>\n",
       "      <td>City Hotel</td>\n",
       "      <td>4.730409</td>\n",
       "    </tr>\n",
       "    <tr>\n",
       "      <th>3</th>\n",
       "      <td>Yes</td>\n",
       "      <td>Resort Hotel</td>\n",
       "      <td>0.092789</td>\n",
       "    </tr>\n",
       "  </tbody>\n",
       "</table>\n",
       "</div>"
      ],
      "text/plain": [
       "  is_canceled         hotel  days_in_waiting_list\n",
       "0          No    City Hotel              2.150082\n",
       "1          No  Resort Hotel              0.694934\n",
       "2         Yes    City Hotel              4.730409\n",
       "3         Yes  Resort Hotel              0.092789"
      ]
     },
     "execution_count": 58,
     "metadata": {},
     "output_type": "execute_result"
    }
   ],
   "source": [
    "cancels = hotel.groupby(['is_canceled','hotel']).mean()['days_in_waiting_list'].reset_index()\n",
    "cancels['is_canceled'].replace({0: 'No', 1: 'Yes'}, inplace=True)\n",
    "cancels"
   ]
  },
  {
   "cell_type": "code",
   "execution_count": 59,
   "metadata": {},
   "outputs": [
    {
     "data": {
      "image/png": "[encoded data removed]",
      "text/plain": [
       "<Figure size 576x432 with 1 Axes>"
      ]
     },
     "metadata": {
      "needs_background": "light"
     },
     "output_type": "display_data"
    },
    {
     "name": "stdout",
     "output_type": "stream",
     "text": [
      "From this graph people are more likely to cancel on a normal city hotel rather than a resort hotel as these are mostlikly\n",
      "harder to get and possibly more expensive\n"
     ]
    }
   ],
   "source": [
    "plt.figure(figsize=(8,6))\n",
    "sns.barplot(cancels['hotel'], cancels['days_in_waiting_list'], hue=cancels['is_canceled'])\n",
    "plt.title('Average Days on Waiting List To Cancelations Based On Hotel Type', fontsize=15)\n",
    "plt.xlabel('Hotel Type', fontsize=13)\n",
    "plt.ylabel('Days On Waiting List', fontsize=13)\n",
    "plt.legend()\n",
    "plt.show()\n",
    "print('''From this graph people are more likely to cancel on a normal city hotel rather than a resort hotel as these are mostlikly\n",
    "harder to get and possibly more expensive''')"
   ]
  },
  {
   "cell_type": "code",
   "execution_count": 60,
   "metadata": {},
   "outputs": [
    {
     "data": {
      "text/html": [
       "<div>\n",
       "<style scoped>\n",
       "    .dataframe tbody tr th:only-of-type {\n",
       "        vertical-align: middle;\n",
       "    }\n",
       "\n",
       "    .dataframe tbody tr th {\n",
       "        vertical-align: top;\n",
       "    }\n",
       "\n",
       "    .dataframe thead th {\n",
       "        text-align: right;\n",
       "    }\n",
       "</style>\n",
       "<table border=\"1\" class=\"dataframe\">\n",
       "  <thead>\n",
       "    <tr style=\"text-align: right;\">\n",
       "      <th></th>\n",
       "      <th>arrival_date_year</th>\n",
       "      <th>hotel</th>\n",
       "      <th>is_canceled</th>\n",
       "      <th>lead_time</th>\n",
       "      <th>arrival_date_month</th>\n",
       "      <th>arrival_date_week_number</th>\n",
       "      <th>arrival_date_day_of_month</th>\n",
       "      <th>stays_in_weekend_nights</th>\n",
       "      <th>stays_in_week_nights</th>\n",
       "      <th>adults</th>\n",
       "      <th>...</th>\n",
       "      <th>deposit_type</th>\n",
       "      <th>agent</th>\n",
       "      <th>company</th>\n",
       "      <th>days_in_waiting_list</th>\n",
       "      <th>customer_type</th>\n",
       "      <th>adr</th>\n",
       "      <th>required_car_parking_spaces</th>\n",
       "      <th>total_of_special_requests</th>\n",
       "      <th>reservation_status</th>\n",
       "      <th>reservation_status_date</th>\n",
       "    </tr>\n",
       "  </thead>\n",
       "  <tbody>\n",
       "    <tr>\n",
       "      <th>0</th>\n",
       "      <td>2015</td>\n",
       "      <td>City Hotel</td>\n",
       "      <td>13682</td>\n",
       "      <td>13682</td>\n",
       "      <td>13682</td>\n",
       "      <td>13682</td>\n",
       "      <td>13682</td>\n",
       "      <td>13682</td>\n",
       "      <td>13682</td>\n",
       "      <td>13682</td>\n",
       "      <td>...</td>\n",
       "      <td>13682</td>\n",
       "      <td>13682</td>\n",
       "      <td>13682</td>\n",
       "      <td>13682</td>\n",
       "      <td>13682</td>\n",
       "      <td>13682</td>\n",
       "      <td>13682</td>\n",
       "      <td>13682</td>\n",
       "      <td>13682</td>\n",
       "      <td>13682</td>\n",
       "    </tr>\n",
       "    <tr>\n",
       "      <th>1</th>\n",
       "      <td>2015</td>\n",
       "      <td>Resort Hotel</td>\n",
       "      <td>8314</td>\n",
       "      <td>8314</td>\n",
       "      <td>8314</td>\n",
       "      <td>8314</td>\n",
       "      <td>8314</td>\n",
       "      <td>8314</td>\n",
       "      <td>8314</td>\n",
       "      <td>8314</td>\n",
       "      <td>...</td>\n",
       "      <td>8314</td>\n",
       "      <td>8314</td>\n",
       "      <td>8314</td>\n",
       "      <td>8314</td>\n",
       "      <td>8314</td>\n",
       "      <td>8314</td>\n",
       "      <td>8314</td>\n",
       "      <td>8314</td>\n",
       "      <td>8314</td>\n",
       "      <td>8314</td>\n",
       "    </tr>\n",
       "    <tr>\n",
       "      <th>2</th>\n",
       "      <td>2016</td>\n",
       "      <td>City Hotel</td>\n",
       "      <td>38140</td>\n",
       "      <td>38140</td>\n",
       "      <td>38140</td>\n",
       "      <td>38140</td>\n",
       "      <td>38140</td>\n",
       "      <td>38140</td>\n",
       "      <td>38140</td>\n",
       "      <td>38140</td>\n",
       "      <td>...</td>\n",
       "      <td>38140</td>\n",
       "      <td>38140</td>\n",
       "      <td>38140</td>\n",
       "      <td>38140</td>\n",
       "      <td>38140</td>\n",
       "      <td>38140</td>\n",
       "      <td>38140</td>\n",
       "      <td>38140</td>\n",
       "      <td>38140</td>\n",
       "      <td>38140</td>\n",
       "    </tr>\n",
       "    <tr>\n",
       "      <th>3</th>\n",
       "      <td>2016</td>\n",
       "      <td>Resort Hotel</td>\n",
       "      <td>18567</td>\n",
       "      <td>18567</td>\n",
       "      <td>18567</td>\n",
       "      <td>18567</td>\n",
       "      <td>18567</td>\n",
       "      <td>18567</td>\n",
       "      <td>18567</td>\n",
       "      <td>18567</td>\n",
       "      <td>...</td>\n",
       "      <td>18567</td>\n",
       "      <td>18567</td>\n",
       "      <td>18567</td>\n",
       "      <td>18567</td>\n",
       "      <td>18567</td>\n",
       "      <td>18567</td>\n",
       "      <td>18567</td>\n",
       "      <td>18567</td>\n",
       "      <td>18567</td>\n",
       "      <td>18567</td>\n",
       "    </tr>\n",
       "    <tr>\n",
       "      <th>4</th>\n",
       "      <td>2017</td>\n",
       "      <td>City Hotel</td>\n",
       "      <td>27508</td>\n",
       "      <td>27508</td>\n",
       "      <td>27508</td>\n",
       "      <td>27508</td>\n",
       "      <td>27508</td>\n",
       "      <td>27508</td>\n",
       "      <td>27508</td>\n",
       "      <td>27508</td>\n",
       "      <td>...</td>\n",
       "      <td>27508</td>\n",
       "      <td>27508</td>\n",
       "      <td>27508</td>\n",
       "      <td>27508</td>\n",
       "      <td>27508</td>\n",
       "      <td>27508</td>\n",
       "      <td>27508</td>\n",
       "      <td>27508</td>\n",
       "      <td>27508</td>\n",
       "      <td>27508</td>\n",
       "    </tr>\n",
       "    <tr>\n",
       "      <th>5</th>\n",
       "      <td>2017</td>\n",
       "      <td>Resort Hotel</td>\n",
       "      <td>13179</td>\n",
       "      <td>13179</td>\n",
       "      <td>13179</td>\n",
       "      <td>13179</td>\n",
       "      <td>13179</td>\n",
       "      <td>13179</td>\n",
       "      <td>13179</td>\n",
       "      <td>13179</td>\n",
       "      <td>...</td>\n",
       "      <td>13179</td>\n",
       "      <td>13179</td>\n",
       "      <td>13179</td>\n",
       "      <td>13179</td>\n",
       "      <td>13179</td>\n",
       "      <td>13179</td>\n",
       "      <td>13179</td>\n",
       "      <td>13179</td>\n",
       "      <td>13179</td>\n",
       "      <td>13179</td>\n",
       "    </tr>\n",
       "  </tbody>\n",
       "</table>\n",
       "<p>6 rows × 32 columns</p>\n",
       "</div>"
      ],
      "text/plain": [
       "  arrival_date_year         hotel  is_canceled  lead_time  arrival_date_month  \\\n",
       "0              2015    City Hotel        13682      13682               13682   \n",
       "1              2015  Resort Hotel         8314       8314                8314   \n",
       "2              2016    City Hotel        38140      38140               38140   \n",
       "3              2016  Resort Hotel        18567      18567               18567   \n",
       "4              2017    City Hotel        27508      27508               27508   \n",
       "5              2017  Resort Hotel        13179      13179               13179   \n",
       "\n",
       "   arrival_date_week_number  arrival_date_day_of_month  \\\n",
       "0                     13682                      13682   \n",
       "1                      8314                       8314   \n",
       "2                     38140                      38140   \n",
       "3                     18567                      18567   \n",
       "4                     27508                      27508   \n",
       "5                     13179                      13179   \n",
       "\n",
       "   stays_in_weekend_nights  stays_in_week_nights  adults  ...  deposit_type  \\\n",
       "0                    13682                 13682   13682  ...         13682   \n",
       "1                     8314                  8314    8314  ...          8314   \n",
       "2                    38140                 38140   38140  ...         38140   \n",
       "3                    18567                 18567   18567  ...         18567   \n",
       "4                    27508                 27508   27508  ...         27508   \n",
       "5                    13179                 13179   13179  ...         13179   \n",
       "\n",
       "   agent  company  days_in_waiting_list  customer_type    adr  \\\n",
       "0  13682    13682                 13682          13682  13682   \n",
       "1   8314     8314                  8314           8314   8314   \n",
       "2  38140    38140                 38140          38140  38140   \n",
       "3  18567    18567                 18567          18567  18567   \n",
       "4  27508    27508                 27508          27508  27508   \n",
       "5  13179    13179                 13179          13179  13179   \n",
       "\n",
       "   required_car_parking_spaces  total_of_special_requests  reservation_status  \\\n",
       "0                        13682                      13682               13682   \n",
       "1                         8314                       8314                8314   \n",
       "2                        38140                      38140               38140   \n",
       "3                        18567                      18567               18567   \n",
       "4                        27508                      27508               27508   \n",
       "5                        13179                      13179               13179   \n",
       "\n",
       "   reservation_status_date  \n",
       "0                    13682  \n",
       "1                     8314  \n",
       "2                    38140  \n",
       "3                    18567  \n",
       "4                    27508  \n",
       "5                    13179  \n",
       "\n",
       "[6 rows x 32 columns]"
      ]
     },
     "execution_count": 60,
     "metadata": {},
     "output_type": "execute_result"
    }
   ],
   "source": [
    "years = hotel.groupby(['arrival_date_year', 'hotel']).count().reset_index()\n",
    "years['arrival_date_year'] = years['arrival_date_year'].astype(str)\n",
    "years"
   ]
  },
  {
   "cell_type": "code",
   "execution_count": 61,
   "metadata": {},
   "outputs": [
    {
     "data": {
      "image/png": "[encoded data removed]",
      "text/plain": [
       "<Figure size 576x432 with 1 Axes>"
      ]
     },
     "metadata": {
      "needs_background": "light"
     },
     "output_type": "display_data"
    },
    {
     "name": "stdout",
     "output_type": "stream",
     "text": [
      "In most cases a city hotel is going to be used more often than a resort so that is clear as to why it has more customers. \n",
      "However, they both have a spike in 2016 from 2015 and a slight drop off in 2017.\n"
     ]
    }
   ],
   "source": [
    "plt.figure(figsize=(8,6))\n",
    "sns.lineplot(years['arrival_date_year'], years['is_canceled'],hue=years['hotel'])\n",
    "plt.xlabel('Years', fontsize=13)\n",
    "plt.ylabel('Amount of Customers', fontsize=13)\n",
    "plt.title('Amount of Customers For Each Year', fontsize=15)\n",
    "plt.show()\n",
    "print('''In most cases a city hotel is going to be used more often than a resort so that is clear as to why it has more customers. \n",
    "However, they both have a spike in 2016 from 2015 and a slight drop off in 2017.''')"
   ]
  },
  {
   "cell_type": "code",
   "execution_count": 62,
   "metadata": {},
   "outputs": [
    {
     "data": {
      "text/html": [
       "<div>\n",
       "<style scoped>\n",
       "    .dataframe tbody tr th:only-of-type {\n",
       "        vertical-align: middle;\n",
       "    }\n",
       "\n",
       "    .dataframe tbody tr th {\n",
       "        vertical-align: top;\n",
       "    }\n",
       "\n",
       "    .dataframe thead th {\n",
       "        text-align: right;\n",
       "    }\n",
       "</style>\n",
       "<table border=\"1\" class=\"dataframe\">\n",
       "  <thead>\n",
       "    <tr style=\"text-align: right;\">\n",
       "      <th></th>\n",
       "      <th>arrival_date_month</th>\n",
       "      <th>hotel</th>\n",
       "      <th>is_canceled</th>\n",
       "      <th>lead_time</th>\n",
       "      <th>arrival_date_year</th>\n",
       "      <th>arrival_date_week_number</th>\n",
       "      <th>arrival_date_day_of_month</th>\n",
       "      <th>stays_in_weekend_nights</th>\n",
       "      <th>stays_in_week_nights</th>\n",
       "      <th>adults</th>\n",
       "      <th>...</th>\n",
       "      <th>deposit_type</th>\n",
       "      <th>agent</th>\n",
       "      <th>company</th>\n",
       "      <th>days_in_waiting_list</th>\n",
       "      <th>customer_type</th>\n",
       "      <th>adr</th>\n",
       "      <th>required_car_parking_spaces</th>\n",
       "      <th>total_of_special_requests</th>\n",
       "      <th>reservation_status</th>\n",
       "      <th>reservation_status_date</th>\n",
       "    </tr>\n",
       "  </thead>\n",
       "  <tbody>\n",
       "    <tr>\n",
       "      <th>4</th>\n",
       "      <td>January</td>\n",
       "      <td>5929</td>\n",
       "      <td>5929</td>\n",
       "      <td>5929</td>\n",
       "      <td>5929</td>\n",
       "      <td>5929</td>\n",
       "      <td>5929</td>\n",
       "      <td>5929</td>\n",
       "      <td>5929</td>\n",
       "      <td>5929</td>\n",
       "      <td>...</td>\n",
       "      <td>5929</td>\n",
       "      <td>5929</td>\n",
       "      <td>5929</td>\n",
       "      <td>5929</td>\n",
       "      <td>5929</td>\n",
       "      <td>5929</td>\n",
       "      <td>5929</td>\n",
       "      <td>5929</td>\n",
       "      <td>5929</td>\n",
       "      <td>5929</td>\n",
       "    </tr>\n",
       "    <tr>\n",
       "      <th>2</th>\n",
       "      <td>December</td>\n",
       "      <td>6780</td>\n",
       "      <td>6780</td>\n",
       "      <td>6780</td>\n",
       "      <td>6780</td>\n",
       "      <td>6780</td>\n",
       "      <td>6780</td>\n",
       "      <td>6780</td>\n",
       "      <td>6780</td>\n",
       "      <td>6780</td>\n",
       "      <td>...</td>\n",
       "      <td>6780</td>\n",
       "      <td>6780</td>\n",
       "      <td>6780</td>\n",
       "      <td>6780</td>\n",
       "      <td>6780</td>\n",
       "      <td>6780</td>\n",
       "      <td>6780</td>\n",
       "      <td>6780</td>\n",
       "      <td>6780</td>\n",
       "      <td>6780</td>\n",
       "    </tr>\n",
       "    <tr>\n",
       "      <th>9</th>\n",
       "      <td>November</td>\n",
       "      <td>6794</td>\n",
       "      <td>6794</td>\n",
       "      <td>6794</td>\n",
       "      <td>6794</td>\n",
       "      <td>6794</td>\n",
       "      <td>6794</td>\n",
       "      <td>6794</td>\n",
       "      <td>6794</td>\n",
       "      <td>6794</td>\n",
       "      <td>...</td>\n",
       "      <td>6794</td>\n",
       "      <td>6794</td>\n",
       "      <td>6794</td>\n",
       "      <td>6794</td>\n",
       "      <td>6794</td>\n",
       "      <td>6794</td>\n",
       "      <td>6794</td>\n",
       "      <td>6794</td>\n",
       "      <td>6794</td>\n",
       "      <td>6794</td>\n",
       "    </tr>\n",
       "    <tr>\n",
       "      <th>3</th>\n",
       "      <td>February</td>\n",
       "      <td>8068</td>\n",
       "      <td>8068</td>\n",
       "      <td>8068</td>\n",
       "      <td>8068</td>\n",
       "      <td>8068</td>\n",
       "      <td>8068</td>\n",
       "      <td>8068</td>\n",
       "      <td>8068</td>\n",
       "      <td>8068</td>\n",
       "      <td>...</td>\n",
       "      <td>8068</td>\n",
       "      <td>8068</td>\n",
       "      <td>8068</td>\n",
       "      <td>8068</td>\n",
       "      <td>8068</td>\n",
       "      <td>8068</td>\n",
       "      <td>8068</td>\n",
       "      <td>8068</td>\n",
       "      <td>8068</td>\n",
       "      <td>8068</td>\n",
       "    </tr>\n",
       "    <tr>\n",
       "      <th>7</th>\n",
       "      <td>March</td>\n",
       "      <td>9794</td>\n",
       "      <td>9794</td>\n",
       "      <td>9794</td>\n",
       "      <td>9794</td>\n",
       "      <td>9794</td>\n",
       "      <td>9794</td>\n",
       "      <td>9794</td>\n",
       "      <td>9794</td>\n",
       "      <td>9794</td>\n",
       "      <td>...</td>\n",
       "      <td>9794</td>\n",
       "      <td>9794</td>\n",
       "      <td>9794</td>\n",
       "      <td>9794</td>\n",
       "      <td>9794</td>\n",
       "      <td>9794</td>\n",
       "      <td>9794</td>\n",
       "      <td>9794</td>\n",
       "      <td>9794</td>\n",
       "      <td>9794</td>\n",
       "    </tr>\n",
       "    <tr>\n",
       "      <th>11</th>\n",
       "      <td>September</td>\n",
       "      <td>10508</td>\n",
       "      <td>10508</td>\n",
       "      <td>10508</td>\n",
       "      <td>10508</td>\n",
       "      <td>10508</td>\n",
       "      <td>10508</td>\n",
       "      <td>10508</td>\n",
       "      <td>10508</td>\n",
       "      <td>10508</td>\n",
       "      <td>...</td>\n",
       "      <td>10508</td>\n",
       "      <td>10508</td>\n",
       "      <td>10508</td>\n",
       "      <td>10508</td>\n",
       "      <td>10508</td>\n",
       "      <td>10508</td>\n",
       "      <td>10508</td>\n",
       "      <td>10508</td>\n",
       "      <td>10508</td>\n",
       "      <td>10508</td>\n",
       "    </tr>\n",
       "    <tr>\n",
       "      <th>6</th>\n",
       "      <td>June</td>\n",
       "      <td>10939</td>\n",
       "      <td>10939</td>\n",
       "      <td>10939</td>\n",
       "      <td>10939</td>\n",
       "      <td>10939</td>\n",
       "      <td>10939</td>\n",
       "      <td>10939</td>\n",
       "      <td>10939</td>\n",
       "      <td>10939</td>\n",
       "      <td>...</td>\n",
       "      <td>10939</td>\n",
       "      <td>10939</td>\n",
       "      <td>10939</td>\n",
       "      <td>10939</td>\n",
       "      <td>10939</td>\n",
       "      <td>10939</td>\n",
       "      <td>10939</td>\n",
       "      <td>10939</td>\n",
       "      <td>10939</td>\n",
       "      <td>10939</td>\n",
       "    </tr>\n",
       "    <tr>\n",
       "      <th>0</th>\n",
       "      <td>April</td>\n",
       "      <td>11089</td>\n",
       "      <td>11089</td>\n",
       "      <td>11089</td>\n",
       "      <td>11089</td>\n",
       "      <td>11089</td>\n",
       "      <td>11089</td>\n",
       "      <td>11089</td>\n",
       "      <td>11089</td>\n",
       "      <td>11089</td>\n",
       "      <td>...</td>\n",
       "      <td>11089</td>\n",
       "      <td>11089</td>\n",
       "      <td>11089</td>\n",
       "      <td>11089</td>\n",
       "      <td>11089</td>\n",
       "      <td>11089</td>\n",
       "      <td>11089</td>\n",
       "      <td>11089</td>\n",
       "      <td>11089</td>\n",
       "      <td>11089</td>\n",
       "    </tr>\n",
       "    <tr>\n",
       "      <th>10</th>\n",
       "      <td>October</td>\n",
       "      <td>11160</td>\n",
       "      <td>11160</td>\n",
       "      <td>11160</td>\n",
       "      <td>11160</td>\n",
       "      <td>11160</td>\n",
       "      <td>11160</td>\n",
       "      <td>11160</td>\n",
       "      <td>11160</td>\n",
       "      <td>11160</td>\n",
       "      <td>...</td>\n",
       "      <td>11160</td>\n",
       "      <td>11160</td>\n",
       "      <td>11160</td>\n",
       "      <td>11160</td>\n",
       "      <td>11160</td>\n",
       "      <td>11160</td>\n",
       "      <td>11160</td>\n",
       "      <td>11160</td>\n",
       "      <td>11160</td>\n",
       "      <td>11160</td>\n",
       "    </tr>\n",
       "    <tr>\n",
       "      <th>8</th>\n",
       "      <td>May</td>\n",
       "      <td>11791</td>\n",
       "      <td>11791</td>\n",
       "      <td>11791</td>\n",
       "      <td>11791</td>\n",
       "      <td>11791</td>\n",
       "      <td>11791</td>\n",
       "      <td>11791</td>\n",
       "      <td>11791</td>\n",
       "      <td>11791</td>\n",
       "      <td>...</td>\n",
       "      <td>11791</td>\n",
       "      <td>11791</td>\n",
       "      <td>11791</td>\n",
       "      <td>11791</td>\n",
       "      <td>11791</td>\n",
       "      <td>11791</td>\n",
       "      <td>11791</td>\n",
       "      <td>11791</td>\n",
       "      <td>11791</td>\n",
       "      <td>11791</td>\n",
       "    </tr>\n",
       "    <tr>\n",
       "      <th>5</th>\n",
       "      <td>July</td>\n",
       "      <td>12661</td>\n",
       "      <td>12661</td>\n",
       "      <td>12661</td>\n",
       "      <td>12661</td>\n",
       "      <td>12661</td>\n",
       "      <td>12661</td>\n",
       "      <td>12661</td>\n",
       "      <td>12661</td>\n",
       "      <td>12661</td>\n",
       "      <td>...</td>\n",
       "      <td>12661</td>\n",
       "      <td>12661</td>\n",
       "      <td>12661</td>\n",
       "      <td>12661</td>\n",
       "      <td>12661</td>\n",
       "      <td>12661</td>\n",
       "      <td>12661</td>\n",
       "      <td>12661</td>\n",
       "      <td>12661</td>\n",
       "      <td>12661</td>\n",
       "    </tr>\n",
       "    <tr>\n",
       "      <th>1</th>\n",
       "      <td>August</td>\n",
       "      <td>13877</td>\n",
       "      <td>13877</td>\n",
       "      <td>13877</td>\n",
       "      <td>13877</td>\n",
       "      <td>13877</td>\n",
       "      <td>13877</td>\n",
       "      <td>13877</td>\n",
       "      <td>13877</td>\n",
       "      <td>13877</td>\n",
       "      <td>...</td>\n",
       "      <td>13877</td>\n",
       "      <td>13877</td>\n",
       "      <td>13877</td>\n",
       "      <td>13877</td>\n",
       "      <td>13877</td>\n",
       "      <td>13877</td>\n",
       "      <td>13877</td>\n",
       "      <td>13877</td>\n",
       "      <td>13877</td>\n",
       "      <td>13877</td>\n",
       "    </tr>\n",
       "  </tbody>\n",
       "</table>\n",
       "<p>12 rows × 32 columns</p>\n",
       "</div>"
      ],
      "text/plain": [
       "   arrival_date_month  hotel  is_canceled  lead_time  arrival_date_year  \\\n",
       "4             January   5929         5929       5929               5929   \n",
       "2            December   6780         6780       6780               6780   \n",
       "9            November   6794         6794       6794               6794   \n",
       "3            February   8068         8068       8068               8068   \n",
       "7               March   9794         9794       9794               9794   \n",
       "11          September  10508        10508      10508              10508   \n",
       "6                June  10939        10939      10939              10939   \n",
       "0               April  11089        11089      11089              11089   \n",
       "10            October  11160        11160      11160              11160   \n",
       "8                 May  11791        11791      11791              11791   \n",
       "5                July  12661        12661      12661              12661   \n",
       "1              August  13877        13877      13877              13877   \n",
       "\n",
       "    arrival_date_week_number  arrival_date_day_of_month  \\\n",
       "4                       5929                       5929   \n",
       "2                       6780                       6780   \n",
       "9                       6794                       6794   \n",
       "3                       8068                       8068   \n",
       "7                       9794                       9794   \n",
       "11                     10508                      10508   \n",
       "6                      10939                      10939   \n",
       "0                      11089                      11089   \n",
       "10                     11160                      11160   \n",
       "8                      11791                      11791   \n",
       "5                      12661                      12661   \n",
       "1                      13877                      13877   \n",
       "\n",
       "    stays_in_weekend_nights  stays_in_week_nights  adults  ...  deposit_type  \\\n",
       "4                      5929                  5929    5929  ...          5929   \n",
       "2                      6780                  6780    6780  ...          6780   \n",
       "9                      6794                  6794    6794  ...          6794   \n",
       "3                      8068                  8068    8068  ...          8068   \n",
       "7                      9794                  9794    9794  ...          9794   \n",
       "11                    10508                 10508   10508  ...         10508   \n",
       "6                     10939                 10939   10939  ...         10939   \n",
       "0                     11089                 11089   11089  ...         11089   \n",
       "10                    11160                 11160   11160  ...         11160   \n",
       "8                     11791                 11791   11791  ...         11791   \n",
       "5                     12661                 12661   12661  ...         12661   \n",
       "1                     13877                 13877   13877  ...         13877   \n",
       "\n",
       "    agent  company  days_in_waiting_list  customer_type    adr  \\\n",
       "4    5929     5929                  5929           5929   5929   \n",
       "2    6780     6780                  6780           6780   6780   \n",
       "9    6794     6794                  6794           6794   6794   \n",
       "3    8068     8068                  8068           8068   8068   \n",
       "7    9794     9794                  9794           9794   9794   \n",
       "11  10508    10508                 10508          10508  10508   \n",
       "6   10939    10939                 10939          10939  10939   \n",
       "0   11089    11089                 11089          11089  11089   \n",
       "10  11160    11160                 11160          11160  11160   \n",
       "8   11791    11791                 11791          11791  11791   \n",
       "5   12661    12661                 12661          12661  12661   \n",
       "1   13877    13877                 13877          13877  13877   \n",
       "\n",
       "    required_car_parking_spaces  total_of_special_requests  \\\n",
       "4                          5929                       5929   \n",
       "2                          6780                       6780   \n",
       "9                          6794                       6794   \n",
       "3                          8068                       8068   \n",
       "7                          9794                       9794   \n",
       "11                        10508                      10508   \n",
       "6                         10939                      10939   \n",
       "0                         11089                      11089   \n",
       "10                        11160                      11160   \n",
       "8                         11791                      11791   \n",
       "5                         12661                      12661   \n",
       "1                         13877                      13877   \n",
       "\n",
       "    reservation_status  reservation_status_date  \n",
       "4                 5929                     5929  \n",
       "2                 6780                     6780  \n",
       "9                 6794                     6794  \n",
       "3                 8068                     8068  \n",
       "7                 9794                     9794  \n",
       "11               10508                    10508  \n",
       "6                10939                    10939  \n",
       "0                11089                    11089  \n",
       "10               11160                    11160  \n",
       "8                11791                    11791  \n",
       "5                12661                    12661  \n",
       "1                13877                    13877  \n",
       "\n",
       "[12 rows x 32 columns]"
      ]
     },
     "execution_count": 62,
     "metadata": {},
     "output_type": "execute_result"
    }
   ],
   "source": [
    "best_month = hotel.groupby(['arrival_date_month']).count().sort_values(by='arrival_date_month').reset_index().sort_values(by='hotel')\n",
    "best_month"
   ]
  },
  {
   "cell_type": "code",
   "execution_count": 63,
   "metadata": {},
   "outputs": [
    {
     "data": {
      "image/png": "[encoded data removed]",
      "text/plain": [
       "<Figure size 1080x432 with 1 Axes>"
      ]
     },
     "metadata": {
      "needs_background": "light"
     },
     "output_type": "display_data"
    },
    {
     "name": "stdout",
     "output_type": "stream",
     "text": [
      "Based on this graph August is the hotels best months for sales and January is their most lacking month. \n",
      "With this information they could look at ways to increase sales in January and around the end of the year/new year. \n"
     ]
    }
   ],
   "source": [
    "plt.figure(figsize=(15,6))\n",
    "sns.barplot(best_month['arrival_date_month'], best_month['hotel'], color='lightskyblue')\n",
    "plt.title('Number Of Customers For Each Month', fontsize=15)\n",
    "plt.xlabel('Month',fontsize=13)\n",
    "plt.ylabel('Amount of Customers',fontsize=13)\n",
    "plt.show()\n",
    "print('''Based on this graph August is the hotels best months for sales and January is their most lacking month. \n",
    "With this information they could look at ways to increase sales in January and around the end of the year/new year. ''')"
   ]
  },
  {
   "cell_type": "markdown",
   "metadata": {},
   "source": [
    "# Matchine Learning"
   ]
  },
  {
   "cell_type": "markdown",
   "metadata": {},
   "source": [
    "### Useful columns for models"
   ]
  },
  {
   "cell_type": "code",
   "execution_count": 64,
   "metadata": {},
   "outputs": [
    {
     "data": {
      "text/plain": [
       "Index(['hotel', 'is_canceled', 'lead_time', 'arrival_date_year',\n",
       "       'arrival_date_month', 'arrival_date_week_number',\n",
       "       'arrival_date_day_of_month', 'stays_in_weekend_nights',\n",
       "       'stays_in_week_nights', 'adults', 'children', 'babies', 'meal',\n",
       "       'country', 'market_segment', 'distribution_channel',\n",
       "       'is_repeated_guest', 'previous_cancellations',\n",
       "       'previous_bookings_not_canceled', 'reserved_room_type',\n",
       "       'assigned_room_type', 'booking_changes', 'deposit_type', 'agent',\n",
       "       'company', 'days_in_waiting_list', 'customer_type', 'adr',\n",
       "       'required_car_parking_spaces', 'total_of_special_requests',\n",
       "       'reservation_status', 'reservation_status_date'],\n",
       "      dtype='object')"
      ]
     },
     "execution_count": 64,
     "metadata": {},
     "output_type": "execute_result"
    }
   ],
   "source": [
    "hotel.columns"
   ]
  },
  {
   "cell_type": "code",
   "execution_count": 65,
   "metadata": {},
   "outputs": [
    {
     "data": {
      "text/plain": [
       "Check-Out    75166\n",
       "Canceled     43017\n",
       "No-Show       1207\n",
       "Name: reservation_status, dtype: int64"
      ]
     },
     "execution_count": 65,
     "metadata": {},
     "output_type": "execute_result"
    }
   ],
   "source": [
    "hotel['reservation_status'].value_counts()"
   ]
  },
  {
   "cell_type": "markdown",
   "metadata": {},
   "source": [
    "### Market segment and Distribution Channel tell a similar story and will add to many ohe columns so these are dropped "
   ]
  },
  {
   "cell_type": "code",
   "execution_count": 66,
   "metadata": {},
   "outputs": [],
   "source": [
    "hotel.drop(columns=['market_segment', 'distribution_channel'], inplace=True)"
   ]
  },
  {
   "cell_type": "markdown",
   "metadata": {},
   "source": [
    "### Country Column has to be dropped since there are to many countries to OHE unless a PCA is used"
   ]
  },
  {
   "cell_type": "code",
   "execution_count": 67,
   "metadata": {},
   "outputs": [],
   "source": [
    "hotel.drop(columns=['country'], inplace=True)"
   ]
  },
  {
   "cell_type": "markdown",
   "metadata": {},
   "source": [
    "### Good for visualizations not so much for model predictions, Redundent columns or columns that are not needed for model predictions"
   ]
  },
  {
   "cell_type": "code",
   "execution_count": 68,
   "metadata": {},
   "outputs": [],
   "source": [
    "hotel.drop(columns=['reserved_room_type', 'assigned_room_type', 'adr', 'reservation_status_date', 'meal', 'previous_bookings_not_canceled','required_car_parking_spaces', 'total_of_special_requests', 'lead_time', 'stays_in_weekend_nights','stays_in_week_nights'], inplace=True)"
   ]
  },
  {
   "cell_type": "code",
   "execution_count": 69,
   "metadata": {},
   "outputs": [],
   "source": [
    "hotel.drop(columns=['arrival_date_week_number', 'arrival_date_day_of_month','adults','children', 'babies','arrival_date_month'], inplace=True)"
   ]
  },
  {
   "cell_type": "code",
   "execution_count": 70,
   "metadata": {},
   "outputs": [
    {
     "data": {
      "text/plain": [
       "Index(['hotel', 'is_canceled', 'arrival_date_year', 'is_repeated_guest',\n",
       "       'previous_cancellations', 'booking_changes', 'deposit_type', 'agent',\n",
       "       'company', 'days_in_waiting_list', 'customer_type',\n",
       "       'reservation_status'],\n",
       "      dtype='object')"
      ]
     },
     "execution_count": 70,
     "metadata": {},
     "output_type": "execute_result"
    }
   ],
   "source": [
    "hotel.columns #44"
   ]
  },
  {
   "cell_type": "code",
   "execution_count": 71,
   "metadata": {},
   "outputs": [
    {
     "data": {
      "text/plain": [
       "hotel                      object\n",
       "is_canceled                 int64\n",
       "arrival_date_year           int64\n",
       "is_repeated_guest           int64\n",
       "previous_cancellations      int64\n",
       "booking_changes             int64\n",
       "deposit_type               object\n",
       "agent                     float64\n",
       "company                   float64\n",
       "days_in_waiting_list        int64\n",
       "customer_type              object\n",
       "reservation_status         object\n",
       "dtype: object"
      ]
     },
     "execution_count": 71,
     "metadata": {},
     "output_type": "execute_result"
    }
   ],
   "source": [
    "hotel.dtypes "
   ]
  },
  {
   "cell_type": "code",
   "execution_count": 147,
   "metadata": {},
   "outputs": [],
   "source": [
    "X = hotel.drop(columns='is_canceled')\n",
    "y = hotel['is_canceled']"
   ]
  },
  {
   "cell_type": "code",
   "execution_count": 148,
   "metadata": {},
   "outputs": [],
   "source": [
    "X_train, X_test, y_train, y_test = train_test_split(X,y,random_state=42, stratify=y)"
   ]
  },
  {
   "cell_type": "code",
   "execution_count": 125,
   "metadata": {},
   "outputs": [],
   "source": [
    "cat_feat = make_column_selector(dtype_include='object')\n",
    "\n",
    "quat_feat = make_column_selector(dtype_include='number')\n",
    "\n",
    "ohe= OneHotEncoder(handle_unknown='ignore')\n",
    "scaler = StandardScaler()\n",
    "\n",
    "column_transformer = make_column_transformer((ohe, cat_feat), (scaler, quat_feat))"
   ]
  },
  {
   "cell_type": "markdown",
   "metadata": {},
   "source": [
    "# KNN Model"
   ]
  },
  {
   "cell_type": "code",
   "execution_count": 77,
   "metadata": {},
   "outputs": [
    {
     "name": "stdout",
     "output_type": "stream",
     "text": [
      "Traning: 0.9984699917357218\n",
      "Testing: 0.9976212811578665\n"
     ]
    }
   ],
   "source": [
    "knn_base = make_pipeline(column_transformer, KNeighborsClassifier())\n",
    "\n",
    "knn_base.fit(X_train,y_train)\n",
    "\n",
    "print(f'Traning: {knn_base.score(X_train, y_train)}')\n",
    "print(f'Testing: {knn_base.score(X_test, y_test)}')"
   ]
  },
  {
   "cell_type": "markdown",
   "metadata": {},
   "source": [
    "# Boosting"
   ]
  },
  {
   "cell_type": "code",
   "execution_count": 126,
   "metadata": {},
   "outputs": [
    {
     "name": "stdout",
     "output_type": "stream",
     "text": [
      "[10:47:14] WARNING: D:\\bld\\xgboost-split_1631904903843\\work\\src\\learner.cc:1095: Starting in XGBoost 1.3.0, the default evaluation metric used with the objective 'binary:logistic' was changed from 'error' to 'logloss'. Explicitly set eval_metric if you'd like to restore the old behavior.\n",
      "Traning: 1.0\n",
      "Testing: 1.0\n"
     ]
    }
   ],
   "source": [
    "xgb_pipe = make_pipeline(column_transformer, XGBClassifier())\n",
    "\n",
    "xgb_pipe.fit(X_train,y_train)\n",
    "\n",
    "print(f'Traning: {xgb_pipe.score(X_train, y_train)}')\n",
    "print(f'Testing: {xgb_pipe.score(X_test, y_test)}')"
   ]
  },
  {
   "cell_type": "markdown",
   "metadata": {},
   "source": [
    "### Possible over fitting so im tracking how many values its actually getting correct with predicting with the data ( X AND Y)"
   ]
  },
  {
   "cell_type": "code",
   "execution_count": 158,
   "metadata": {},
   "outputs": [
    {
     "data": {
      "text/html": [
       "<div>\n",
       "<style scoped>\n",
       "    .dataframe tbody tr th:only-of-type {\n",
       "        vertical-align: middle;\n",
       "    }\n",
       "\n",
       "    .dataframe tbody tr th {\n",
       "        vertical-align: top;\n",
       "    }\n",
       "\n",
       "    .dataframe thead th {\n",
       "        text-align: right;\n",
       "    }\n",
       "</style>\n",
       "<table border=\"1\" class=\"dataframe\">\n",
       "  <thead>\n",
       "    <tr style=\"text-align: right;\">\n",
       "      <th></th>\n",
       "      <th>Preds</th>\n",
       "      <th>Actual</th>\n",
       "      <th>Condition</th>\n",
       "    </tr>\n",
       "  </thead>\n",
       "  <tbody>\n",
       "    <tr>\n",
       "      <th>0</th>\n",
       "      <td>0</td>\n",
       "      <td>0</td>\n",
       "      <td>True</td>\n",
       "    </tr>\n",
       "    <tr>\n",
       "      <th>1</th>\n",
       "      <td>0</td>\n",
       "      <td>0</td>\n",
       "      <td>True</td>\n",
       "    </tr>\n",
       "    <tr>\n",
       "      <th>2</th>\n",
       "      <td>0</td>\n",
       "      <td>0</td>\n",
       "      <td>True</td>\n",
       "    </tr>\n",
       "    <tr>\n",
       "      <th>3</th>\n",
       "      <td>0</td>\n",
       "      <td>0</td>\n",
       "      <td>True</td>\n",
       "    </tr>\n",
       "    <tr>\n",
       "      <th>4</th>\n",
       "      <td>0</td>\n",
       "      <td>0</td>\n",
       "      <td>True</td>\n",
       "    </tr>\n",
       "  </tbody>\n",
       "</table>\n",
       "</div>"
      ],
      "text/plain": [
       "   Preds  Actual Condition\n",
       "0      0       0      True\n",
       "1      0       0      True\n",
       "2      0       0      True\n",
       "3      0       0      True\n",
       "4      0       0      True"
      ]
     },
     "execution_count": 158,
     "metadata": {},
     "output_type": "execute_result"
    }
   ],
   "source": [
    "preds = xgb_pipe.predict(X)\n",
    "\n",
    "preds_correct = pd.DataFrame({'Preds': preds, 'Actual' : y })\n",
    "\n",
    "# All preds start as False until decided later if they match the actual value\n",
    "preds_correct['Condition'] = False\n",
    "\n",
    "#Checks if Pred value matches the Actual value and sets it to True if they match\n",
    "preds_correct.loc[preds_correct['Preds'] == preds_correct['Actual'], 'Condition'] = 'True'\n",
    "preds_correct.head()\n"
   ]
  },
  {
   "cell_type": "markdown",
   "metadata": {},
   "source": [
    "#### Since there are no False values that means the model got them all correct"
   ]
  },
  {
   "cell_type": "code",
   "execution_count": 159,
   "metadata": {},
   "outputs": [
    {
     "data": {
      "text/plain": [
       "True    119390\n",
       "Name: Condition, dtype: int64"
      ]
     },
     "execution_count": 159,
     "metadata": {},
     "output_type": "execute_result"
    }
   ],
   "source": [
    "preds_correct['Condition'].value_counts()"
   ]
  },
  {
   "cell_type": "markdown",
   "metadata": {},
   "source": [
    "#### Checking the distribution between 0 and 1 values since all I can see from tail and head are 0's "
   ]
  },
  {
   "cell_type": "code",
   "execution_count": 160,
   "metadata": {},
   "outputs": [
    {
     "data": {
      "text/plain": [
       "0    75166\n",
       "1    44224\n",
       "Name: Actual, dtype: int64"
      ]
     },
     "execution_count": 160,
     "metadata": {},
     "output_type": "execute_result"
    }
   ],
   "source": [
    "preds_correct['Actual'].value_counts()"
   ]
  },
  {
   "cell_type": "markdown",
   "metadata": {},
   "source": [
    "## PCA & LOG REG"
   ]
  },
  {
   "cell_type": "code",
   "execution_count": null,
   "metadata": {},
   "outputs": [],
   "source": [
    "X = hotel.drop(columns='is_canceled')\n",
    "y = hotel['is_canceled']"
   ]
  },
  {
   "cell_type": "code",
   "execution_count": null,
   "metadata": {},
   "outputs": [],
   "source": [
    "X_train, X_test, y_train, y_test = train_test_split(X,y,random_state=42, stratify=y)"
   ]
  },
  {
   "cell_type": "code",
   "execution_count": 149,
   "metadata": {},
   "outputs": [],
   "source": [
    "scaler = StandardScaler()\n",
    "scaled_X_train = X_train.drop(columns=['hotel','is_repeated_guest', 'deposit_type','customer_type', 'reservation_status'])\n",
    "scaled_X_test = X_test.drop(columns=['hotel','is_repeated_guest', 'deposit_type','customer_type', 'reservation_status'])\n",
    "\n",
    "scaler.fit(scaled_X_train)\n",
    "\n",
    "\n",
    "scaled_train = scaler.transform(scaled_X_train)\n",
    "scaled_test = scaler.transform(scaled_X_test)"
   ]
  },
  {
   "cell_type": "code",
   "execution_count": 150,
   "metadata": {},
   "outputs": [],
   "source": [
    "pca = PCA(.95)\n",
    "X_train_pca = pca.fit_transform(scaled_train)\n",
    "X_test_pca = pca.transform(scaled_test)"
   ]
  },
  {
   "cell_type": "code",
   "execution_count": 151,
   "metadata": {},
   "outputs": [],
   "source": [
    "ohe = OneHotEncoder(handle_unknown='ignore', sparse=False)\n",
    "X_train_cols = X_train[['hotel','is_repeated_guest', 'deposit_type','customer_type', 'reservation_status']]\n",
    "X_test_cols = X_test[['hotel','is_repeated_guest', 'deposit_type','customer_type', 'reservation_status']]\n",
    "\n",
    "ohe.fit(X_train_cols)\n",
    "\n",
    "train_cols = ohe.transform(X_train_cols)\n",
    "test_cols = ohe.transform(X_test_cols)"
   ]
  },
  {
   "cell_type": "code",
   "execution_count": 153,
   "metadata": {},
   "outputs": [],
   "source": [
    "X_train = np.concatenate((X_train_pca, train_cols), axis=1)\n",
    "X_test = np.concatenate((X_test_pca, test_cols), axis=1)"
   ]
  },
  {
   "cell_type": "code",
   "execution_count": 154,
   "metadata": {},
   "outputs": [
    {
     "name": "stdout",
     "output_type": "stream",
     "text": [
      "Traning: 1.0\n",
      "Testing: 1.0\n"
     ]
    }
   ],
   "source": [
    "log_reg = LogisticRegression()\n",
    "\n",
    "log_reg.fit(X_train,y_train)\n",
    "\n",
    "print(f'Traning: {log_reg.score(X_train, y_train)}')\n",
    "print(f'Testing: {log_reg.score(X_test, y_test)}')"
   ]
  }
 ],
 "metadata": {
  "interpreter": {
   "hash": "ae86e1e3cf00bcf9d4c41097730d3c58ce0334d6c45261508081dd2e9b348fbe"
  },
  "kernelspec": {
   "display_name": "Python 3.8.5 64-bit ('base': conda)",
   "language": "python",
   "name": "python3"
  },
  "language_info": {
   "codemirror_mode": {
    "name": "ipython",
    "version": 3
   },
   "file_extension": ".py",
   "mimetype": "text/x-python",
   "name": "python",
   "nbconvert_exporter": "python",
   "pygments_lexer": "ipython3",
   "version": "3.8.5"
  },
  "orig_nbformat": 4
 },
 "nbformat": 4,
 "nbformat_minor": 2
}
